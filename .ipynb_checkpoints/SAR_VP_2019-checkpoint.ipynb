{
 "cells": [
  {
   "cell_type": "code",
   "execution_count": 1,
   "metadata": {},
   "outputs": [],
   "source": [
    "import pandas as pd\n",
    "import matplotlib.pyplot as plt"
   ]
  },
  {
   "cell_type": "code",
   "execution_count": 2,
   "metadata": {},
   "outputs": [],
   "source": [
    "#CLUSTER DATA - LOADING, RECODING AND CONDUCTING K MEANS CLUSTER ANALYSIS. #K means cluster analysis was conducted\n",
    "#previously in SPSS because I really like the output of SPSS when it comes to clustering. The 'QCL_1' column shows cluster\n",
    "#membership for K = 3, and the variables are 'cucincisegment' which represents 10 modules, recoded into numericals using\n",
    "#'segmentiRelFreq' variable, 'cucincioznaka' column which is recoded with 'sarRelFreq' and 'cucincisif_vrpos' recoded\n",
    "#with 'vpRelFreq'\n",
    "\n",
    "PATH1 = 'clusterDataNumerical.xlsx'\n",
    "clusterData = pd.read_excel(PATH1, index_col=0)\n",
    "clusterDataNumerical = clusterData[['segmentRelFreq', 'sarRelFreq', 'vpRelFreq']].copy()\n",
    "\n"
   ]
  },
  {
   "cell_type": "code",
   "execution_count": 3,
   "metadata": {},
   "outputs": [],
   "source": [
    "PATH3 = 'clusterResultsSPSS.xlsx'\n",
    "clusterResults = pd.read_excel(PATH3, index_col=0).dropna()\n",
    "\n",
    "cluster1 = clusterResults[clusterResults['QCL_1'] == 1]\n",
    "cluster2 = clusterResults[clusterResults['QCL_1'] == 2]\n",
    "cluster3 = clusterResults[clusterResults['QCL_1'] == 3]\n",
    "#These are functions that count how many times did the module show up in a cluster. Return is a list that contains lists\n",
    "# with unique module names and their frequency within a cluster.\n",
    "def segCounter (cluster):\n",
    "    segList = list(cluster['cucincisegment'])\n",
    "    uniques = []\n",
    "    result = []\n",
    "    for segment in segList:\n",
    "        if segment not in uniques:\n",
    "            uniques.append(segment)\n",
    "    for unique in uniques:\n",
    "        result.append([unique, segList.count(unique)])\n",
    "\n",
    "    return result\n",
    "\n",
    "#This function is the same as segCounter, it just counts sars, individual employees within a cluster and the return is\n",
    "#the same.\n",
    "def sarCounter (cluster):\n",
    "    sarList = list(cluster['cucincioznaka'])\n",
    "    uniques = []\n",
    "    result = []\n",
    "    for sar in sarList:\n",
    "        if sar not in uniques:\n",
    "            uniques.append(sar)\n",
    "    for unique in uniques:\n",
    "        result.append([unique, sarList.count(unique)])\n",
    "    return result\n",
    "\n",
    "#function to sort returns from previous 2 based on second element of a sublist.\n",
    "def Sort(sub_li): \n",
    "    l = len(sub_li) \n",
    "    for i in range(0, l): \n",
    "        for j in range(0, l-i-1): \n",
    "            if (sub_li[j][1] > sub_li[j + 1][1]): \n",
    "                tempo = sub_li[j] \n",
    "                sub_li[j]= sub_li[j + 1] \n",
    "                sub_li[j + 1]= tempo \n",
    "    return sub_li \n",
    "        \n",
    "\n",
    "\n",
    "\n",
    " \n",
    "    \n",
    "\n",
    "\n"
   ]
  },
  {
   "cell_type": "code",
   "execution_count": 4,
   "metadata": {},
   "outputs": [],
   "source": [
    "noChangeSegs = {'ROB','MPR', 'PRO', 'KASA'}\n",
    "growingSegs = {'PDV', 'OBR', 'TEHNICKA'}\n",
    "fallingSegs = {'FAKT', 'FIN', 'KASA', 'OS'}\n",
    "\n",
    "\n",
    "#Here are modules classified in three categories based on forecast (mentioned in previous notebook).\n"
   ]
  },
  {
   "cell_type": "code",
   "execution_count": 5,
   "metadata": {},
   "outputs": [
    {
     "name": "stdout",
     "output_type": "stream",
     "text": [
      "[['MDJ', 5], ['NR', 6], ['AJ', 8], ['DI', 8], ['JR', 8], ['MAR', 9], ['MK', 9], ['NM', 9], ['ZK', 9], ['ZS', 9], ['JS', 10], ['MT', 10], ['VB', 10]]\n",
      "[['NR', 9], ['VB', 10], ['MDJ', 11], ['DI', 13], ['JR', 13], ['MAR', 13], ['AJ', 15], ['MK', 15], ['NM', 16], ['ZS', 17], ['ZK', 19], ['JS', 21], ['MT', 21]]\n",
      "[['NR', 2], ['MDJ', 3], ['JR', 4], ['MAR', 4], ['MT', 4], ['VB', 4], ['MK', 4], ['AJ', 5], ['ZS', 6], ['JS', 7], ['DI', 8], ['NM', 8], ['ZK', 8]]\n"
     ]
    }
   ],
   "source": [
    "print(Sort(sarCounter(cluster1)))\n",
    "print(Sort(sarCounter(cluster2)))\n",
    "print(Sort(sarCounter(cluster3)))\n",
    "\n",
    "#printing out sorted counts for employees\n"
   ]
  },
  {
   "cell_type": "code",
   "execution_count": 6,
   "metadata": {},
   "outputs": [
    {
     "name": "stdout",
     "output_type": "stream",
     "text": [
      "[['PRO', 7], ['TEHNICKA', 7], ['MPR', 11], ['OBR', 11], ['OS', 11], ['PDV', 11], ['FAKT', 13], ['FIN', 13], ['KASA', 13], ['ROB', 13]]\n",
      "[['PDV', 10], ['PRO', 10], ['ROB', 10], ['MPR', 16], ['TEHNICKA', 18], ['OS', 23], ['FIN', 32], ['KASA', 33], ['FAKT', 41]]\n",
      "[['ROB', 17], ['PDV', 20], ['OBR', 30]]\n"
     ]
    }
   ],
   "source": [
    "print(Sort(segCounter(cluster1)))\n",
    "print(Sort(segCounter(cluster2)))\n",
    "print(Sort(segCounter(cluster3)))\n",
    "\n",
    "#printing out sorted counts for modules\n"
   ]
  },
  {
   "cell_type": "code",
   "execution_count": 7,
   "metadata": {},
   "outputs": [],
   "source": [
    "# results of these counts are imported in excel for graphing and that concludes python part of this project. \n",
    "# Rest of the project consists of deciding what employee should be present the most in which module based on module forecasts\n",
    "#and employee frequency in these clusters. That requires domain knowledge and most of it is left for a client to decide.\n"
   ]
  }
 ],
 "metadata": {
  "kernelspec": {
   "display_name": "Python 3",
   "language": "python",
   "name": "python3"
  },
  "language_info": {
   "codemirror_mode": {
    "name": "ipython",
    "version": 3
   },
   "file_extension": ".py",
   "mimetype": "text/x-python",
   "name": "python",
   "nbconvert_exporter": "python",
   "pygments_lexer": "ipython3",
   "version": "3.7.4"
  }
 },
 "nbformat": 4,
 "nbformat_minor": 2
}
